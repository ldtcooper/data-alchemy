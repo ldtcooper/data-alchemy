{
 "cells": [
  {
   "cell_type": "markdown",
   "metadata": {},
   "source": []
  },
  {
   "cell_type": "code",
   "execution_count": null,
   "metadata": {
    "collapsed": false
   },
   "outputs": [],
   "source": [
    "# importing necessary module to access webpage-based data\n",
    "from urllib.request import urlopen \n",
    "\n",
    "# reads data from website\n",
    "data = urlopen('https://labrosa.ee.columbia.edu/millionsong/sites/default/files/AdditionalFiles/unique_tracks.txt')"
   ]
  },
  {
   "cell_type": "code",
   "execution_count": null,
   "metadata": {
    "collapsed": false
   },
   "outputs": [],
   "source": [
    "# puts the data into a list line by line\n",
    "song_data_list = []\n",
    "for line in data:\n",
    "    song_data_list.append(str(line))"
   ]
  },
  {
   "cell_type": "code",
   "execution_count": 5,
   "metadata": {
    "collapsed": false
   },
   "outputs": [
    {
     "name": "stdout",
     "output_type": "stream",
     "text": [
      "[\"b'TRMMMYQ128F932D901<SEP>SOQMMHC12AB0180CB8<SEP>Faster Pussy cat<SEP>Silent Night\\\\n'\", \"b'TRMMMKD128F425225D<SEP>SOVFVAK12A8C1350D9<SEP>Karkkiautomaatti<SEP>Tanssi vaan\\\\n'\", \"b'TRMMMRX128F93187D9<SEP>SOGTUKN12AB017F4F1<SEP>Hudson Mohawke<SEP>No One Could Ever\\\\n'\", \"b'TRMMMCH128F425532C<SEP>SOBNYVR12A8C13558C<SEP>Yerba Brava<SEP>Si Vos Quer\\\\xc3\\\\xa9s\\\\n'\", \"b'TRMMMWA128F426B589<SEP>SOHSBXH12A8C13B0DF<SEP>Der Mystic<SEP>Tangle Of Aspens\\\\n'\", 'b\\'TRMMMXN128F42936A5<SEP>SOZVAPQ12A8C13B63C<SEP>David Montgomery<SEP>Symphony No. 1 G minor \"Sinfonie Serieuse\"/Allegro con energia\\\\n\\'', \"b'TRMMMLR128F1494097<SEP>SOQVRHI12A6D4FB2D7<SEP>Sasha / Turbulence<SEP>We Have Got Love\\\\n'\", 'b\"TRMMMBB12903CB7D21<SEP>SOEYRFT12AB018936C<SEP>Kris Kross<SEP>2 Da Beat Ch\\'yall\\\\n\"', \"b'TRMMMHY12903CB53F1<SEP>SOPMIYT12A6D4F851E<SEP>Joseph Locke<SEP>Goodbye\\\\n'\"]\n",
      "<class 'list'>\n",
      "<class 'str'>\n"
     ]
    }
   ],
   "source": [
    "print(song_data_list[0:9])\n",
    "print(type(song_data_list))\n",
    "print(type(song_data_list[0]))"
   ]
  },
  {
   "cell_type": "code",
   "execution_count": 10,
   "metadata": {
    "collapsed": false
   },
   "outputs": [
    {
     "name": "stdout",
     "output_type": "stream",
     "text": [
      "['TRMMMYQ128F932D901<SEP>SOQMMHC12AB0180CB8<SEP>Faster Pussy cat<SEP>Silent Night', 'TRMMMKD128F425225D<SEP>SOVFVAK12A8C1350D9<SEP>Karkkiautomaatti<SEP>Tanssi vaan', 'TRMMMRX128F93187D9<SEP>SOGTUKN12AB017F4F1<SEP>Hudson Mohawke<SEP>No One Could Ever', 'TRMMMCH128F425532C<SEP>SOBNYVR12A8C13558C<SEP>Yerba Brava<SEP>Si Vos Quer\\\\xc3\\\\xa9s', 'TRMMMWA128F426B589<SEP>SOHSBXH12A8C13B0DF<SEP>Der Mystic<SEP>Tangle Of Aspens', 'TRMMMXN128F42936A5<SEP>SOZVAPQ12A8C13B63C<SEP>David Montgomery<SEP>Symphony No. 1 G minor \"Sinfonie Serieuse\"/Allegro con energia', 'TRMMMLR128F1494097<SEP>SOQVRHI12A6D4FB2D7<SEP>Sasha / Turbulence<SEP>We Have Got Love', 'TRMMMBB12903CB7D21<SEP>SOEYRFT12AB018936C<SEP>Kris Kross<SEP>2 Da Beat Chyall\"', 'TRMMMHY12903CB53F1<SEP>SOPMIYT12A6D4F851E<SEP>Joseph Locke<SEP>Goodbye', 'TRMMMML128F4280EE9<SEP>SOJCFMH12A8C13B0C2<SEP>The Sun Harbors Chorus-Documentary Recordings<SEP>Mama_ mama cant you see ?\"']\n"
     ]
    }
   ],
   "source": [
    "# cleans out certain special characters\n",
    "song_data_list2 = []\n",
    "for elem in song_data_list:\n",
    "    cleaned_elem = elem.replace(\"b'\", '').replace('\\\\n', '').replace('\\'', '').replace('b\"', '')\n",
    "    song_data_list2.append(cleaned_elem)\n",
    "    \n",
    "print(song_data_list2[0:10])"
   ]
  },
  {
   "cell_type": "code",
   "execution_count": 23,
   "metadata": {
    "collapsed": false
   },
   "outputs": [
    {
     "name": "stdout",
     "output_type": "stream",
     "text": [
      "[['TRMMMYQ128F932D901', 'SOQMMHC12AB0180CB8', 'Faster Pussy cat', 'Silent Night'], ['TRMMMKD128F425225D', 'SOVFVAK12A8C1350D9', 'Karkkiautomaatti', 'Tanssi vaan'], ['TRMMMRX128F93187D9', 'SOGTUKN12AB017F4F1', 'Hudson Mohawke', 'No One Could Ever'], ['TRMMMCH128F425532C', 'SOBNYVR12A8C13558C', 'Yerba Brava', 'Si Vos Quer\\\\xc3\\\\xa9s'], ['TRMMMWA128F426B589', 'SOHSBXH12A8C13B0DF', 'Der Mystic', 'Tangle Of Aspens'], ['TRMMMXN128F42936A5', 'SOZVAPQ12A8C13B63C', 'David Montgomery', 'Symphony No. 1 G minor \"Sinfonie Serieuse\"/Allegro con energia'], ['TRMMMLR128F1494097', 'SOQVRHI12A6D4FB2D7', 'Sasha / Turbulence', 'We Have Got Love'], ['TRMMMBB12903CB7D21', 'SOEYRFT12AB018936C', 'Kris Kross', '2 Da Beat Chyall\"'], ['TRMMMHY12903CB53F1', 'SOPMIYT12A6D4F851E', 'Joseph Locke', 'Goodbye'], ['TRMMMML128F4280EE9', 'SOJCFMH12A8C13B0C2', 'The Sun Harbors Chorus-Documentary Recordings', 'Mama_ mama cant you see ?\"']]\n"
     ]
    }
   ],
   "source": [
    "# turns each string in list into its own sublist\n",
    "song_data_list3 = []\n",
    "for elem in song_data_list2:\n",
    "    sublist = elem.split('<SEP>')\n",
    "    song_data_list3.append(sublist)\n",
    "    \n",
    "print(song_data_list3[0:10])"
   ]
  },
  {
   "cell_type": "code",
   "execution_count": 24,
   "metadata": {
    "collapsed": false
   },
   "outputs": [
    {
     "data": {
      "text/html": [
       "<div>\n",
       "<table border=\"1\" class=\"dataframe\">\n",
       "  <thead>\n",
       "    <tr style=\"text-align: right;\">\n",
       "      <th></th>\n",
       "      <th>TrackID</th>\n",
       "      <th>SongID</th>\n",
       "      <th>Artist</th>\n",
       "      <th>Title</th>\n",
       "    </tr>\n",
       "  </thead>\n",
       "  <tbody>\n",
       "    <tr>\n",
       "      <th>0</th>\n",
       "      <td>TRMMMYQ128F932D901</td>\n",
       "      <td>SOQMMHC12AB0180CB8</td>\n",
       "      <td>Faster Pussy cat</td>\n",
       "      <td>Silent Night</td>\n",
       "    </tr>\n",
       "    <tr>\n",
       "      <th>1</th>\n",
       "      <td>TRMMMKD128F425225D</td>\n",
       "      <td>SOVFVAK12A8C1350D9</td>\n",
       "      <td>Karkkiautomaatti</td>\n",
       "      <td>Tanssi vaan</td>\n",
       "    </tr>\n",
       "    <tr>\n",
       "      <th>2</th>\n",
       "      <td>TRMMMRX128F93187D9</td>\n",
       "      <td>SOGTUKN12AB017F4F1</td>\n",
       "      <td>Hudson Mohawke</td>\n",
       "      <td>No One Could Ever</td>\n",
       "    </tr>\n",
       "    <tr>\n",
       "      <th>3</th>\n",
       "      <td>TRMMMCH128F425532C</td>\n",
       "      <td>SOBNYVR12A8C13558C</td>\n",
       "      <td>Yerba Brava</td>\n",
       "      <td>Si Vos Quer\\xc3\\xa9s</td>\n",
       "    </tr>\n",
       "    <tr>\n",
       "      <th>4</th>\n",
       "      <td>TRMMMWA128F426B589</td>\n",
       "      <td>SOHSBXH12A8C13B0DF</td>\n",
       "      <td>Der Mystic</td>\n",
       "      <td>Tangle Of Aspens</td>\n",
       "    </tr>\n",
       "  </tbody>\n",
       "</table>\n",
       "</div>"
      ],
      "text/plain": [
       "              TrackID              SongID            Artist  \\\n",
       "0  TRMMMYQ128F932D901  SOQMMHC12AB0180CB8  Faster Pussy cat   \n",
       "1  TRMMMKD128F425225D  SOVFVAK12A8C1350D9  Karkkiautomaatti   \n",
       "2  TRMMMRX128F93187D9  SOGTUKN12AB017F4F1    Hudson Mohawke   \n",
       "3  TRMMMCH128F425532C  SOBNYVR12A8C13558C       Yerba Brava   \n",
       "4  TRMMMWA128F426B589  SOHSBXH12A8C13B0DF        Der Mystic   \n",
       "\n",
       "                  Title  \n",
       "0          Silent Night  \n",
       "1           Tanssi vaan  \n",
       "2     No One Could Ever  \n",
       "3  Si Vos Quer\\xc3\\xa9s  \n",
       "4      Tangle Of Aspens  "
      ]
     },
     "execution_count": 24,
     "metadata": {},
     "output_type": "execute_result"
    }
   ],
   "source": [
    "# prepares headers for dataframe\n",
    "headers = ['TrackID', 'SongID', 'Artist', 'Title']\n",
    "song_data = pd.DataFrame(song_data_list3, columns = headers)\n",
    "\n",
    "song_data.head()"
   ]
  },
  {
   "cell_type": "code",
   "execution_count": null,
   "metadata": {
    "collapsed": true
   },
   "outputs": [],
   "source": [
    ""
   ]
  }
 ],
 "metadata": {
  "anaconda-cloud": {},
  "kernelspec": {
   "display_name": "Python [conda root]",
   "language": "python",
   "name": "conda-root-py"
  },
  "language_info": {
   "codemirror_mode": {
    "name": "ipython",
    "version": 3.0
   },
   "file_extension": ".py",
   "mimetype": "text/x-python",
   "name": "python",
   "nbconvert_exporter": "python",
   "pygments_lexer": "ipython3",
   "version": "3.5.2"
  }
 },
 "nbformat": 4,
 "nbformat_minor": 0
}
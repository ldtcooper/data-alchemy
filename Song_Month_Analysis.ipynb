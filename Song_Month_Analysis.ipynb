{
 "cells": [
  {
   "cell_type": "code",
   "execution_count": 1,
   "metadata": {
    "collapsed": false
   },
   "outputs": [],
   "source": [
    "# importing necessary module to access webpage-based data\n",
    "from urllib.request import urlopen \n",
    "\n",
    "# reads data from website\n",
    "data = urlopen('https://labrosa.ee.columbia.edu/millionsong/sites/default/files/AdditionalFiles/unique_tracks.txt')"
   ]
  },
  {
   "cell_type": "code",
   "execution_count": 3,
   "metadata": {
    "collapsed": false
   },
   "outputs": [
    {
     "name": "stdout",
     "output_type": "stream",
     "text": [
      "[\"b'8F92DB91E<SEP>SOEKJOA12AAFF44B60<SEP>Quit Your Dayjob<SEP>Danger! Fire Kills Children\\\\n'\", \"b'TRDVZEX12903D09BAD<SEP>SOQJPEA12AC468A392<SEP>Allure<SEP>Ever Enough\\\\n'\", \"b'TRDVZOU12903CD8A2C<SEP>SOHDOOH12AB018A662<SEP>X Makeena<SEP>Tumbleweed\\\\n'\", \"b'TRDVZLP128F930F589<SEP>SOJLPWZ12AB0181603<SEP>Fancy<SEP>Love Has Called Me Home\\\\n'\", \"b'TRDVZMG128F933A40C<SEP>SOPZKHZ12AB0185C3F<SEP>The Sunny Cowgirls<SEP>Live It Loud\\\\n'\", \"b'TRDVZWT12903CA218E<SEP>SOYWNWM12AB018A452<SEP>Fair Weather<SEP>Tutti Frutti\\\\n'\", \"b'TRDVZSS128F147389A<SEP>SOOQBUB12A6D4F8653<SEP>Somerville_ Jimmy<SEP>By Your Side\\\\n'\", \"b'TRDVZKU128F933F999<SEP>SOEFWGW12AB01898FC<SEP>Ella Fitzgerald_ Louis Armstrong<SEP>Bess Oh Where Is My Bess\\\\n'\", \"b'TRDVZPP12903CDB564<SEP>SORXHBD12AB0187AAB<SEP>mandala<SEP>Acidney\\\\n'\"]\n"
     ]
    }
   ],
   "source": [
    "# puts the data into a list line by line\n",
    "song_data_list = []\n",
    "for line in data:\n",
    "    song_data_list.append(str(line))\n",
    "print(song_data_list[0:9])"
   ]
  },
  {
   "cell_type": "code",
   "execution_count": 4,
   "metadata": {
    "collapsed": false
   },
   "outputs": [
    {
     "name": "stdout",
     "output_type": "stream",
     "text": [
      "['8F92DB91E<SEP>SOEKJOA12AAFF44B60<SEP>Quit Your Dayjob<SEP>Danger! Fire Kills Children', 'TRDVZEX12903D09BAD<SEP>SOQJPEA12AC468A392<SEP>Allure<SEP>Ever Enough', 'TRDVZOU12903CD8A2C<SEP>SOHDOOH12AB018A662<SEP>X Makeena<SEP>Tumbleweed', 'TRDVZLP128F930F589<SEP>SOJLPWZ12AB0181603<SEP>Fancy<SEP>Love Has Called Me Home', 'TRDVZMG128F933A40C<SEP>SOPZKHZ12AB0185C3F<SEP>The Sunny Cowgirls<SEP>Live It Loud', 'TRDVZWT12903CA218E<SEP>SOYWNWM12AB018A452<SEP>Fair Weather<SEP>Tutti Frutti', 'TRDVZSS128F147389A<SEP>SOOQBUB12A6D4F8653<SEP>Somerville_ Jimmy<SEP>By Your Side', 'TRDVZKU128F933F999<SEP>SOEFWGW12AB01898FC<SEP>Ella Fitzgerald_ Louis Armstrong<SEP>Bess Oh Where Is My Bess', 'TRDVZPP12903CDB564<SEP>SORXHBD12AB0187AAB<SEP>mandala<SEP>Acidney', 'TRDVZSW128F4264F16<SEP>SOSAFFL12A8C13A263<SEP>Atlantic Brass Quintet<SEP>Sextet In E-flat minor_ Op. 30: Part II']\n"
     ]
    }
   ],
   "source": [
    "# cleans out certain special characters\n",
    "song_data_list2 = []\n",
    "for elem in song_data_list:\n",
    "    cleaned_elem = elem.replace(\"b'\", '').replace('\\\\n', '').replace('\\'', '').replace('b\"', '')\n",
    "    song_data_list2.append(cleaned_elem)\n",
    "    \n",
    "print(song_data_list2[0:10])"
   ]
  },
  {
   "cell_type": "code",
   "execution_count": 5,
   "metadata": {
    "collapsed": false
   },
   "outputs": [
    {
     "name": "stdout",
     "output_type": "stream",
     "text": [
      "[['8F92DB91E', 'SOEKJOA12AAFF44B60', 'Quit Your Dayjob', 'Danger! Fire Kills Children'], ['TRDVZEX12903D09BAD', 'SOQJPEA12AC468A392', 'Allure', 'Ever Enough'], ['TRDVZOU12903CD8A2C', 'SOHDOOH12AB018A662', 'X Makeena', 'Tumbleweed'], ['TRDVZLP128F930F589', 'SOJLPWZ12AB0181603', 'Fancy', 'Love Has Called Me Home'], ['TRDVZMG128F933A40C', 'SOPZKHZ12AB0185C3F', 'The Sunny Cowgirls', 'Live It Loud'], ['TRDVZWT12903CA218E', 'SOYWNWM12AB018A452', 'Fair Weather', 'Tutti Frutti'], ['TRDVZSS128F147389A', 'SOOQBUB12A6D4F8653', 'Somerville_ Jimmy', 'By Your Side'], ['TRDVZKU128F933F999', 'SOEFWGW12AB01898FC', 'Ella Fitzgerald_ Louis Armstrong', 'Bess Oh Where Is My Bess'], ['TRDVZPP12903CDB564', 'SORXHBD12AB0187AAB', 'mandala', 'Acidney'], ['TRDVZSW128F4264F16', 'SOSAFFL12A8C13A263', 'Atlantic Brass Quintet', 'Sextet In E-flat minor_ Op. 30: Part II']]\n"
     ]
    }
   ],
   "source": [
    "# turns each string in list into its own sublist\n",
    "song_data_list3 = []\n",
    "for elem in song_data_list2:\n",
    "    sublist = elem.split('<SEP>')\n",
    "    song_data_list3.append(sublist)\n",
    "    \n",
    "print(song_data_list3[0:10])"
   ]
  },
  {
   "cell_type": "code",
   "execution_count": 6,
   "metadata": {
    "collapsed": false
   },
   "outputs": [
    {
     "data": {
      "text/html": [
       "<div>\n",
       "<table border=\"1\" class=\"dataframe\">\n",
       "  <thead>\n",
       "    <tr style=\"text-align: right;\">\n",
       "      <th></th>\n",
       "      <th>TrackID</th>\n",
       "      <th>SongID</th>\n",
       "      <th>Artist</th>\n",
       "      <th>Title</th>\n",
       "    </tr>\n",
       "  </thead>\n",
       "  <tbody>\n",
       "    <tr>\n",
       "      <th>0</th>\n",
       "      <td>8F92DB91E</td>\n",
       "      <td>SOEKJOA12AAFF44B60</td>\n",
       "      <td>Quit Your Dayjob</td>\n",
       "      <td>Danger! Fire Kills Children</td>\n",
       "    </tr>\n",
       "    <tr>\n",
       "      <th>1</th>\n",
       "      <td>TRDVZEX12903D09BAD</td>\n",
       "      <td>SOQJPEA12AC468A392</td>\n",
       "      <td>Allure</td>\n",
       "      <td>Ever Enough</td>\n",
       "    </tr>\n",
       "    <tr>\n",
       "      <th>2</th>\n",
       "      <td>TRDVZOU12903CD8A2C</td>\n",
       "      <td>SOHDOOH12AB018A662</td>\n",
       "      <td>X Makeena</td>\n",
       "      <td>Tumbleweed</td>\n",
       "    </tr>\n",
       "    <tr>\n",
       "      <th>3</th>\n",
       "      <td>TRDVZLP128F930F589</td>\n",
       "      <td>SOJLPWZ12AB0181603</td>\n",
       "      <td>Fancy</td>\n",
       "      <td>Love Has Called Me Home</td>\n",
       "    </tr>\n",
       "    <tr>\n",
       "      <th>4</th>\n",
       "      <td>TRDVZMG128F933A40C</td>\n",
       "      <td>SOPZKHZ12AB0185C3F</td>\n",
       "      <td>The Sunny Cowgirls</td>\n",
       "      <td>Live It Loud</td>\n",
       "    </tr>\n",
       "  </tbody>\n",
       "</table>\n",
       "</div>"
      ],
      "text/plain": [
       "              TrackID              SongID              Artist  \\\n",
       "0           8F92DB91E  SOEKJOA12AAFF44B60    Quit Your Dayjob   \n",
       "1  TRDVZEX12903D09BAD  SOQJPEA12AC468A392              Allure   \n",
       "2  TRDVZOU12903CD8A2C  SOHDOOH12AB018A662           X Makeena   \n",
       "3  TRDVZLP128F930F589  SOJLPWZ12AB0181603               Fancy   \n",
       "4  TRDVZMG128F933A40C  SOPZKHZ12AB0185C3F  The Sunny Cowgirls   \n",
       "\n",
       "                         Title  \n",
       "0  Danger! Fire Kills Children  \n",
       "1                  Ever Enough  \n",
       "2                   Tumbleweed  \n",
       "3      Love Has Called Me Home  \n",
       "4                 Live It Loud  "
      ]
     },
     "execution_count": 6,
     "metadata": {},
     "output_type": "execute_result"
    }
   ],
   "source": [
    "import pandas as pd\n",
    "# prepares headers for dataframe\n",
    "headers = ['TrackID', 'SongID', 'Artist', 'Title']\n",
    "# creates dataframe\n",
    "song_data = pd.DataFrame(song_data_list3, columns = headers)\n",
    "\n",
    "song_data.head()"
   ]
  },
  {
   "cell_type": "code",
   "execution_count": 16,
   "metadata": {
    "collapsed": false
   },
   "outputs": [
    {
     "name": "stdout",
     "output_type": "stream",
     "text": [
      "[['january', 'januar', 'janvier', 'enero', 'gennaio', 'januari', 'styczeń', 'janeiro'], ['february', 'februar', 'février', 'febrero', 'febbraio', 'februari', 'luty', 'fevereiro'], ['march', 'märz', '~~~~', '~~~~', 'marzo', 'mars', 'marzec', 'março'], ['april', '~~~~', 'avril', '~~~~', 'aprile', '~~~~', 'kwiecień', 'abril'], ['may', 'mai', '~~~~', 'mayo', 'maggio', '~~~~', 'maj', 'maio'], ['june', 'juni', 'juin', 'junio', 'giugno', '~~~~', 'czerwiec', 'junho'], ['july', 'juli', 'juillet', 'julio', 'luglio', '~~~~', 'lipiec', 'julho'], ['august', '~~~~', 'août', '~~~~', '~~~~', 'augusti', 'sierpień', '~~~~'], ['september', '~~~~', 'septembre', 'septiembre', 'settembre', '~~~~', 'wrzesień', 'setembro'], ['october', '~~~~', 'octobre', 'octubre', 'ottobre', 'oktober', 'październik', 'outubro'], ['november', '~~~~', '~~~~', 'noviembre', '~~~~', '~~~~', 'listopad', 'novembro'], ['december', 'dezember', 'décembre', 'diciembre', 'dicembre', '~~~~', 'grudzień', 'dezembro']]\n"
     ]
    }
   ],
   "source": [
    "# fetches month names in different languages (English, German, French, Spanish, Italian, Swedish, Polish, Portuguese)\n",
    "# Source: http://www.omniglot.com/language/time/months.htm\n",
    "\n",
    "# reads excel file of month names\n",
    "# Note: This file has been cleaned of month names that are identical in multiple languages - replaced with '~~~~'\n",
    "# for example: 'Maj' is May in both Swedish and Polish - this file only includes one entry for 'maj'\n",
    "month_names = pd.read_excel('month_names.xlsx')\n",
    "month_names.head()\n",
    "\n",
    "eng_list = ['january', 'february', 'march', 'april', 'may', 'june', 'july', 'august', 'september', 'october', 'november', 'december']\n",
    "total_month_list = []\n",
    "# iterates through the list of english months/data frame headers\n",
    "for elem in eng_list:\n",
    "    # for each month, creates a new list containing just that month name\n",
    "    single_month_list = [elem]\n",
    "    #iterates through each month-column of the dataframe\n",
    "    for name in month_names[elem]:\n",
    "        # appends each foreign language month name to the sublist\n",
    "        single_month_list.append(name.lower())\n",
    "    # appends list of names of one month to the larger list, creating a list of lists\n",
    "    total_month_list.append(single_month_list)\n",
    "    \n",
    "print(total_month_list)"
   ]
  },
  {
   "cell_type": "code",
   "execution_count": 55,
   "metadata": {
    "collapsed": false
   },
   "outputs": [
    {
     "name": "stdout",
     "output_type": "stream",
     "text": [
      "{'may': 254, 'january': 22, 'september': 40, 'february': 14, 'july': 23, 'december': 36, 'august': 28, 'october': 34, 'june': 36, 'november': 29, 'march': 154, 'april': 41}\n",
      "[('may', 254), ('march', 154), ('april', 41), ('september', 40), ('december', 36), ('june', 36), ('october', 34), ('november', 29), ('august', 28), ('july', 23), ('january', 22), ('february', 14)]\n"
     ]
    }
   ],
   "source": [
    "# dictionary to keep track of the number of mentions of each month in song titles\n",
    "months_freq_eng = {'january':0, 'february':0, 'march':0, 'april':0, 'may':0, 'june':0, 'july':0, 'august':0, 'september':0, 'october':0, 'november':0, 'december':0}\n",
    "\n",
    "# looks only at English songs\n",
    "for elem in song_data['Title']:\n",
    "    current = elem.lower()\n",
    "    for month in months_freq_eng:\n",
    "        if month in current:\n",
    "            months_freq_eng[month] += 1\n",
    "\n",
    "# prints months_freq_eng as a list of ordered tuples\n",
    "import operator\n",
    "sorted_months_eng = sorted(months_freq_eng.items(), key=operator.itemgetter(1), reverse=True)\n",
    "print(sorted_months_eng)\n"
   ]
  },
  {
   "cell_type": "code",
   "execution_count": 53,
   "metadata": {
    "collapsed": false
   },
   "outputs": [
    {
     "name": "stdout",
     "output_type": "stream",
     "text": [
      "{'may': 1046, 'january': 64, 'september': 53, 'february': 28, 'july': 104, 'december': 39, 'august': 28, 'october': 37, 'june': 111, 'november': 30, 'march': 228, 'april': 49}\n",
      "[('may', 1046), ('march', 228), ('june', 111), ('july', 104), ('january', 64), ('september', 53), ('april', 49), ('december', 39), ('october', 37), ('november', 30), ('february', 28), ('august', 28)]\n"
     ]
    }
   ],
   "source": [
    "months_freq = {'january':0, 'february':0, 'march':0, 'april':0, 'may':0, 'june':0, 'july':0, 'august':0, 'september':0, 'october':0, 'november':0, 'december':0}\n",
    "\n",
    "# iterates through the song titles\n",
    "for elem in song_data['Title']:\n",
    "    # cleans the titles\n",
    "    current = elem.lower()\n",
    "    # iterates over the list of lists of month names\n",
    "    for sublist in total_month_list:\n",
    "        # iterates over the list of names for each month\n",
    "        for month in sublist:\n",
    "            if month in current:\n",
    "                # counts the month mentions in the dictionary by looking at the first element of each sublist (the english month name)\n",
    "                months_freq[sublist[0]] += 1\n",
    "                \n",
    "# prints months_freq as a list of ordered tuples\n",
    "import operator\n",
    "sorted_months = sorted(months_freq.items(), key=operator.itemgetter(1), reverse=True)\n",
    "print(sorted_months)"
   ]
  },
  {
   "cell_type": "code",
   "execution_count": 51,
   "metadata": {
    "collapsed": false
   },
   "outputs": [
    {
     "name": "stdout",
     "output_type": "stream",
     "text": [
      "Proportion of songs mentioning months (English only): 0.000711\n",
      "Proportion of songs mentioning months (All Languages): 0.001817\n",
      "Proportion of songs mentioning a month that are in English: 0.391304347826087\n"
     ]
    }
   ],
   "source": [
    "# how many songs mention a month?\n",
    "# 1000000 songs\n",
    "eng_month_songs = 0\n",
    "for elem in months_freq_eng:\n",
    "    eng_month_songs += months_freq_eng[elem]\n",
    "    \n",
    "print(\"Proportion of songs mentioning months (English only):\", eng_month_songs/1000000)\n",
    "\n",
    "month_songs = 0\n",
    "for elem in months_freq:\n",
    "    month_songs += months_freq[elem]\n",
    "    \n",
    "print(\"Proportion of songs mentioning months (All Languages):\", month_songs/1000000)\n",
    "print(\"Proportion of songs mentioning a month that are in English:\", eng_month_songs/month_songs)"
   ]
  },
  {
   "cell_type": "code",
   "execution_count": 61,
   "metadata": {
    "collapsed": false
   },
   "outputs": [
    {
     "data": {
      "image/png": "[encoded data removed]",
      "text/plain": [
       "<matplotlib.figure.Figure at 0x172c02f2dd8>"
      ]
     },
     "metadata": {},
     "output_type": "display_data"
    },
    {
     "data": {
      "image/png": "[encoded data removed]",
      "text/plain": [
       "<matplotlib.figure.Figure at 0x172c02f20b8>"
      ]
     },
     "metadata": {},
     "output_type": "display_data"
    }
   ],
   "source": [
    "# plot the months\n",
    "import matplotlib.pyplot as plt\n",
    "import numpy as np\n",
    "\n",
    "# all languages\n",
    "# creates and populates a list of times each month is mentioned\n",
    "mentions = []\n",
    "months = []\n",
    "for elem in sorted_months:\n",
    "    mentions.append(elem[1])\n",
    "    months.append(elem[0])\n",
    "    \n",
    "y_pos = np.arange(len(months))\n",
    "# uses these lists to plot months\n",
    "plt.bar(y_pos, mentions, color = '#DF2536')\n",
    "plt.xticks(y_pos, months, rotation=60)\n",
    "plt.show()\n",
    "\n",
    "# English only\n",
    "# creates and populates a list of times each month is mentioned\n",
    "mentions = []\n",
    "months = []\n",
    "for elem in sorted_months_eng:\n",
    "    mentions.append(elem[1])\n",
    "    months.append(elem[0])\n",
    "    \n",
    "y_pos = np.arange(len(months))\n",
    "# uses these lists to plot months\n",
    "plt.bar(y_pos, mentions, color = '#0072FF')\n",
    "plt.xticks(y_pos, months, rotation=60)\n",
    "plt.show()"
   ]
  },
  {
   "cell_type": "code",
   "execution_count": null,
   "metadata": {
    "collapsed": true
   },
   "outputs": [],
   "source": []
  }
 ],
 "metadata": {
  "anaconda-cloud": {},
  "kernelspec": {
   "display_name": "Python [conda root]",
   "language": "python",
   "name": "conda-root-py"
  },
  "language_info": {
   "codemirror_mode": {
    "name": "ipython",
    "version": 3
   },
   "file_extension": ".py",
   "mimetype": "text/x-python",
   "name": "python",
   "nbconvert_exporter": "python",
   "pygments_lexer": "ipython3",
   "version": "3.5.2"
  }
 },
 "nbformat": 4,
 "nbformat_minor": 0
}
